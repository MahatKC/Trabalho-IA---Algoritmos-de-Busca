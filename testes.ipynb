{
 "metadata": {
  "language_info": {
   "codemirror_mode": {
    "name": "ipython",
    "version": 3
   },
   "file_extension": ".py",
   "mimetype": "text/x-python",
   "name": "python",
   "nbconvert_exporter": "python",
   "pygments_lexer": "ipython3",
   "version": "3.8.3-final"
  },
  "orig_nbformat": 2,
  "kernelspec": {
   "name": "python383jvsc74a57bd06c555ae357bbdb515d6d9686cab1868349dcab72626e98d0df5ed4f7e6a39c1b",
   "display_name": "Python 3.8.3 64-bit ('deeplearning': conda)"
  }
 },
 "nbformat": 4,
 "nbformat_minor": 2,
 "cells": [
  {
   "cell_type": "code",
   "execution_count": 1,
   "metadata": {},
   "outputs": [],
   "source": [
    "import numpy as np\n",
    "import time\n",
    "import copy\n",
    "#Leonardo Vanzin\n",
    "#Mateus Karvat Camara\n",
    "class Tree:\n",
    "    # classe Tree cria um nó quando é chamada\n",
    "    def __init__(self, data):\n",
    "        self.children = []\n",
    "        self.parents = []\n",
    "        self.data = data\n",
    "\n",
    "    def __str__(self):\n",
    "    # quando print é chamada para um objeto do tipo Tree, ele exibe o dado do nó \n",
    "    # atual e dos filhos apenas desse nó\n",
    "        children_data = []\n",
    "        for child in self.children:\n",
    "            child_data = str(child.data)\n",
    "            children_data.append(child_data)\n",
    "        a = \"Data: \"+str(self.data)+\"\\n\"+\"Children: \"+str(children_data)\n",
    "        return a\n",
    "\n",
    "def verifica_validade(x,y):\n",
    "    #verifica se estao na mesma linha\n",
    "    if x//8==y//8:\n",
    "        return False\n",
    "    #verifica se estao na mesma coluna\n",
    "    elif x%8==y%8:\n",
    "        return False\n",
    "    #verifica se estao na mesma diagonal principal (\\)\n",
    "    elif abs(x-y)%9==0 and max(x,y)%8>min(x,y)%8:\n",
    "        return False\n",
    "    #verifica se estao na mesma diagonal secundaria (/)\n",
    "    elif abs(x-y)%7==0 and max(x,y)%8<min(x,y)%8:\n",
    "        return False\n",
    "    #se todas as verificacoes passaram a posicao e valida\n",
    "    else:\n",
    "        return True\n",
    "\n",
    "def cria_arvore(node_pai, indice_pai, nivel):\n",
    "    #a arvore é criada no nivel 1 e deve ter no máximo 8 níves. logo, se nivel==9, a criação da árvore deve cessar\n",
    "    if nivel==9:\n",
    "        return None\n",
    "    #verifica-se se o pai pode ter filhos. caso a posição de um nó seja inválida, tal nó é armazenado com um *, o que torna seu tipo de dado\n",
    "    #uma string.\n",
    "    if type(node_pai.data) != str:\n",
    "        #cria-se filhos para o nó pai atual com índices maiores que o do nó pai. Logo, a árvore é criada apenas com numeração ascendente\n",
    "        #Isto é: 0->10->25->...\n",
    "        #isso elimina a verificação repetida em combinações já testadas, como 0->25->10->...\n",
    "        for indice_atual in range(indice_pai+1,64):\n",
    "            #cria-se um nó vazio\n",
    "            node_atual = Tree(None)\n",
    "            #copia-se os nós do pai para o nó recém-criado\n",
    "            node_atual.parents=copy.deepcopy(node_pai.parents)\n",
    "            #adiciona-se o pai na lista de pais do nó atual\n",
    "            node_atual.parents.append(indice_pai)\n",
    "            valido=True\n",
    "            #verifica-se se a posição do nó atual é válida em relação a cada um dos nós pai que o precederam na árvore\n",
    "            for parent in node_atual.parents:\n",
    "                if not verifica_validade(parent,indice_atual):\n",
    "                    valido=False\n",
    "                    break\n",
    "            #caso o nó seja válido, adiciona-se o índice atual a ele\n",
    "            if valido:\n",
    "                node_atual.data = indice_atual\n",
    "            else:\n",
    "                node_atual.data=str(indice_atual)+\"*\"\n",
    "            #após a criação do nó, ele é adicionado a lista de filhos de seu pai\n",
    "            node_pai.children.append(node_atual)\n",
    "\n",
    "            #incrementa-se o contador de nível da árvore\n",
    "            nivel += 1\n",
    "            #chama-se a função de forma recursiva para criar o próximo nível da árvore a partir do nó atual\n",
    "            cria_arvore(node_atual, indice_atual, nivel)\n",
    "\n",
    "def inicia_arvore():\n",
    "    #visto que o primeiro nível da árvore não segue o mesmo padrão que os demais, ele é criado fora da função recursiva\n",
    "    raiz = Tree(None)\n",
    "    for i in range(64):\n",
    "        node = Tree(i)\n",
    "\n",
    "        raiz.children.append(node)\n",
    "\n",
    "        cria_arvore(node, i, 1)\n",
    "    \n",
    "    return raiz\n",
    "\n",
    "def exibir_respostas_validas(respostas_validas): #função para organizar as listas para imprimir bonitinho\n",
    "    for resposta in respostas_validas:#percorre as lista que estao em respostas_validas\n",
    "        resposta_para_printar = [] #cria uma lista para cada lista de caminhos validos\n",
    "        for nozinho in resposta:#percorre  o conteudo das lista que estao dentro da lista respostas_validas\n",
    "            resposta_para_printar.append(nozinho.data) #coloca o valor de cada no na lista, isso porque o conteudo das listas eram os endereços dos nos\n",
    "        print(resposta_para_printar) #imprime os caminhos validos\n",
    "\n",
    "def busca_em_profundidade_preliminar(no_inicial):\n",
    "    caminhos=[0] #coloca o valor da posicao zero de respostas invalidas como 0 incialmente, \n",
    "                 #foi utilizado uma lista pois ao passar uma variavel como parametro para uma funcao é somente passado o valor dela e nao a referencia\n",
    "    pilha = [] #cria a pilha que vai ser utilizada na busca em profundidade\n",
    "    respostas_validas = [] #cria lista que sera armazenado os caminhos validos\n",
    "    busca_em_profundidade_recursivo(no_inicial, pilha, respostas_validas, caminhos)\n",
    "    print(\"Número de respostas válidas:\",len(respostas_validas)) #imprime o numero de listas que que estao dentro de respostas_validas \n",
    "    print(\"Número de respostas inválidas:\", caminhos[0]) #imprime a primeira posicao da lista, que contem o numero de caminhos invalidos\n",
    "    print(\"Caminhos válidos:\")\n",
    "    exibir_respostas_validas(respostas_validas) #chama funcao para imprimir os caminhos validos\n",
    "\n",
    "def busca_em_profundidade_recursivo(no_referencia, pilha, respostas_validas, caminhos):\n",
    "    pilha.append(no_referencia) #passa o no inicial\n",
    "    for no_filho in no_referencia.children: #percorre a arvore, indo de filho em filho\n",
    "        busca_em_profundidade_recursivo(no_filho, pilha, respostas_validas, caminhos)\n",
    "    if (len(pilha)>9) : #seleciona os caminhos que sao maior que 9, porque sao os caminhos que possuem os 8 niveis\n",
    "        if pilha[1:-1] not in respostas_validas: #verifica se ja existe um dentro da lista, para evitar respostas repetidas\n",
    "            respostas_validas.append(pilha[1:-1]) #coloca na lista de respostas validas tirando o no raiz e o ultimo filho, o ultimo filho é tirado pois o pai dele ja é o 8 nivel\n",
    "    elif (len(pilha)==9 and pilha[-1].data==63):#como o 63 é o ultimo no possivel ele nao tem filho, mas tem casos em que o 63 é valido para a resposta, \n",
    "                                                #assim verificamos se no 8 nivel tem o 63 e com isso colocamos ele na lista\n",
    "        if pilha[1:] not in respostas_validas: #neste caso como o 63 é o ultimo nivel e ele nao possui filho, tiramos somente o no raiz\n",
    "            respostas_validas.append(pilha[1:])\n",
    "    else:\n",
    "        caminhos[0]+=1 #contabiliza quantos caminhos invalidos foram encontrados na primeira posicao da lista\n",
    "    pilha.pop(pilha.index(no_referencia)) #seguindo o algoritmo da busca em profundidade elimina-se o no da pilha"
   ]
  },
  {
   "cell_type": "code",
   "execution_count": 2,
   "metadata": {},
   "outputs": [],
   "source": [
    "raiz = inicia_arvore()"
   ]
  },
  {
   "cell_type": "code",
   "execution_count": 3,
   "metadata": {
    "tags": []
   },
   "outputs": [
    {
     "output_type": "stream",
     "name": "stdout",
     "text": [
      "Número de respostas válidas: 92\nNúmero de respostas inválidas: 924223\nCaminhos válidos:\n[0, 12, 23, 29, 34, 46, 49, 59]\n[0, 13, 23, 26, 38, 43, 49, 60]\n[0, 14, 19, 29, 39, 41, 52, 58]\n[0, 14, 20, 31, 33, 43, 53, 58]\n[1, 11, 21, 31, 34, 40, 54, 60]\n[1, 12, 22, 24, 34, 47, 53, 59]\n[1, 12, 22, 27, 32, 47, 53, 58]\n[1, 13, 16, 30, 35, 47, 50, 60]\n[1, 13, 23, 26, 32, 43, 54, 60]\n[1, 14, 18, 29, 39, 44, 48, 59]\n[1, 14, 20, 31, 32, 43, 53, 58]\n[1, 15, 21, 24, 34, 44, 54, 59]\n[2, 8, 22, 28, 39, 41, 51, 61]\n[2, 12, 17, 31, 32, 46, 51, 61]\n[2, 12, 17, 31, 37, 43, 54, 56]\n[2, 12, 22, 24, 35, 41, 55, 61]\n[2, 12, 23, 27, 32, 46, 49, 61]\n[2, 13, 17, 28, 39, 40, 54, 59]\n[2, 13, 17, 30, 32, 43, 55, 60]\n[2, 13, 17, 30, 36, 40, 55, 59]\n[2, 13, 19, 24, 39, 44, 54, 57]\n[2, 13, 19, 25, 39, 44, 54, 56]\n[2, 13, 23, 24, 35, 46, 52, 57]\n[2, 13, 23, 24, 36, 46, 49, 59]\n[2, 13, 23, 25, 35, 40, 54, 60]\n[2, 14, 17, 31, 36, 40, 51, 61]\n[2, 14, 17, 31, 37, 43, 48, 60]\n[2, 15, 19, 30, 32, 45, 49, 60]\n[3, 8, 20, 31, 33, 46, 50, 61]\n[3, 8, 20, 31, 37, 42, 54, 57]\n[3, 9, 20, 31, 37, 40, 50, 62]\n[3, 9, 22, 26, 37, 47, 48, 60]\n[3, 9, 22, 26, 37, 47, 52, 56]\n[3, 9, 22, 28, 32, 47, 53, 58]\n[3, 9, 23, 28, 38, 40, 50, 61]\n[3, 9, 23, 29, 32, 42, 52, 62]\n[3, 13, 16, 28, 33, 47, 50, 62]\n[3, 13, 23, 25, 38, 40, 50, 60]\n[3, 13, 23, 26, 32, 46, 52, 57]\n[3, 14, 16, 31, 36, 41, 53, 58]\n[3, 14, 18, 31, 33, 44, 48, 61]\n[3, 14, 20, 25, 37, 40, 50, 63]\n[3, 14, 20, 26, 32, 45, 55, 57]\n[3, 15, 16, 26, 37, 41, 54, 60]\n[3, 15, 16, 28, 38, 41, 53, 58]\n[3, 15, 20, 26, 32, 46, 49, 61]\n[4, 8, 19, 29, 39, 41, 54, 58]\n[4, 8, 23, 27, 33, 46, 50, 61]\n[4, 8, 23, 29, 34, 46, 49, 59]\n[4, 9, 19, 29, 39, 42, 48, 62]\n[4, 9, 19, 30, 34, 47, 53, 56]\n[4, 9, 21, 24, 38, 43, 55, 58]\n[4, 9, 23, 24, 35, 46, 50, 61]\n[4, 10, 16, 29, 39, 41, 51, 62]\n[4, 10, 16, 30, 33, 47, 53, 59]\n[4, 10, 23, 27, 38, 40, 53, 57]\n[4, 14, 16, 26, 39, 45, 51, 57]\n[4, 14, 16, 27, 33, 47, 53, 58]\n[4, 14, 17, 27, 39, 40, 50, 61]\n[4, 14, 17, 29, 34, 40, 51, 63]\n[4, 14, 17, 29, 34, 40, 55, 59]\n[4, 14, 19, 24, 34, 47, 53, 57]\n[4, 15, 19, 24, 34, 45, 49, 62]\n[4, 15, 19, 24, 38, 41, 53, 58]\n[5, 8, 20, 25, 39, 42, 54, 59]\n[5, 9, 22, 24, 34, 44, 55, 59]\n[5, 9, 22, 24, 35, 47, 52, 58]\n[5, 10, 16, 30, 36, 47, 49, 59]\n[5, 10, 16, 31, 35, 41, 54, 60]\n[5, 10, 16, 31, 36, 41, 51, 62]\n[5, 10, 20, 30, 32, 43, 49, 63]\n[5, 10, 20, 31, 32, 43, 49, 62]\n[5, 10, 22, 25, 35, 47, 48, 60]\n[5, 10, 22, 25, 39, 44, 48, 59]\n[5, 10, 22, 27, 32, 47, 49, 60]\n[5, 11, 16, 28, 39, 41, 54, 58]\n[5, 11, 17, 31, 36, 46, 48, 58]\n[5, 11, 22, 24, 34, 44, 49, 63]\n[5, 11, 22, 24, 39, 41, 52, 58]\n[5, 15, 17, 27, 32, 46, 52, 58]\n[6, 8, 18, 31, 37, 43, 49, 60]\n[6, 9, 19, 24, 39, 44, 50, 61]\n[6, 9, 21, 26, 32, 43, 55, 60]\n[6, 10, 16, 29, 39, 44, 49, 59]\n[6, 10, 23, 25, 36, 40, 53, 59]\n[6, 11, 17, 28, 39, 40, 50, 61]\n[6, 11, 17, 31, 37, 40, 50, 60]\n[6, 12, 18, 24, 37, 47, 49, 59]\n[7, 9, 19, 24, 38, 44, 50, 61]\n[7, 9, 20, 26, 32, 46, 51, 61]\n[7, 10, 16, 29, 33, 44, 54, 59]\n[7, 11, 16, 26, 37, 41, 54, 60]\n"
     ]
    }
   ],
   "source": [
    "busca_em_profundidade_preliminar(raiz)"
   ]
  },
  {
   "cell_type": "code",
   "execution_count": 4,
   "metadata": {},
   "outputs": [],
   "source": [
    "def Randomiza():\n",
    "    #gera numero aleatorio entre 0 e 1\n",
    "    return np.random.rand()\n",
    "\n",
    "def RandomS0():\n",
    "    rng = np.random.default_rng()\n",
    "    #gera uma lista de 8 inteiros distintos aleatoriamente\n",
    "    x = rng.choice(64, size=8, replace=False)\n",
    "    x_list = list(x)\n",
    "    #ordena a lista de modo a torná-la estritamente crescente\n",
    "    x_list.sort()\n",
    "\n",
    "    return x_list\n",
    "\n",
    "def func_obj(Si,tree):\n",
    "    cost = 0\n",
    "    x = Si[0]   #x é o elemento de interesse da lista Si\n",
    "    node = tree.children[x]  #acessa nó x no primeiro nivel da árvore\n",
    "    for nivel in range(1,8):\n",
    "        x = Si[nivel]   #atualiza x\n",
    "\n",
    "        #cria lista com os dados dos filhos do nó de interesse\n",
    "        children_data = []\n",
    "        for child in node.children:\n",
    "            children_data.append(child.data)\n",
    "\n",
    "        #se x está entre os nós filhos do atual nó, passa-se o atual nó para o nó\n",
    "        #cujo dado é x\n",
    "        if x in children_data:\n",
    "            indice_x = children_data.index(x)\n",
    "            node = node.children[indice_x]\n",
    "        #do contrário, o nó que contém x é um nó folha e calcula-se o custo de tal nó\n",
    "        #o custo é calculado pelo número de filhos que o nó em questão não tem\n",
    "        #ou seja, se ele está no 7º nível, ele não tem um filho no 8º nível nem no 9º e seu custo é 20\n",
    "        else:\n",
    "            cost = (9-nivel)*10\n",
    "            break\n",
    "    return cost\n",
    "\n",
    "def Perturba(S):\n",
    "    #sorteia o índice do elemento a ser perturbado\n",
    "    indice = np.random.randint(8)\n",
    "\n",
    "    #variavel booleana pra garantir a checagem correta dos IFs\n",
    "    check = False\n",
    "\n",
    "    while S[indice]-indice>=56:\n",
    "        indice = np.random.randint(8)\n",
    "\n",
    "    #se não é o último elemento\n",
    "    if indice<7:\n",
    "        #se o valor é 0, obriga a somar 1, exceto se o próximo valor é 1, \n",
    "        #aí não faz nada para evitar criar valores repetidos\n",
    "        if S[indice]==0:\n",
    "            check=True\n",
    "            if S[indice+1]!=1:\n",
    "                S[indice]+=1\n",
    "        #se o elemento posterior é o número suscessor ao número atual, \n",
    "        #obriga a subtrair em 1 o número atual, visto que ele não é 0\n",
    "        elif S[indice+1]==S[indice]+1:\n",
    "            if indice>0:\n",
    "                if S[indice-1]!=S[indice]-1:\n",
    "                    S[indice]-=1\n",
    "            check=True\n",
    "        else:\n",
    "            if indice>0:\n",
    "                if S[indice-1]!=S[indice]-1:\n",
    "                    S[indice]-=1\n",
    "            check=True\n",
    "    \n",
    "    #se não é o primeiro elemento\n",
    "    else:\n",
    "        #se o elemento anterior é o número antecessor ao número atual, \n",
    "        # obriga a somar 1 no número atual, desde que ele não seja 63\n",
    "        if S[indice-1]==S[indice]-1:\n",
    "            check=True\n",
    "            if S[indice]!=63:\n",
    "                S[indice]+=1\n",
    "        #se for 63 (mas o anterior não era 62), subtrai 1 dele\n",
    "        elif S[indice]==63:\n",
    "            S[indice]-=1\n",
    "            check=True\n",
    "    \n",
    "    #se não for nenhum dos casos especiais acima, que obrigaria a somar ou subtrair,\n",
    "    #escolhe aleatoriamente entre subtração e soma de 1\n",
    "    if not check:\n",
    "        #escolhe um número aleatório entre -1 e 1, então aplica função sinal nele,\n",
    "        #obtendo -1 ou 1 aleatoriamente. então adiciona o resultado ao elemento \n",
    "        #perturbado\n",
    "        perturbacao = int(np.sign(np.random.rand()*2-1))\n",
    "        S[indice]+= perturbacao\n",
    "    \n",
    "    rng = np.random.default_rng()\n",
    "    tamanho = 8-(indice+1)  #número de elementos a serem substituídos\n",
    "    intervalo = 63-S[indice]    #intervalo de valores possível\n",
    "    \n",
    "    #cria uma lista de valores a serem substituídos após o valor perturbado\n",
    "    try:\n",
    "        x = rng.choice(intervalo, size=tamanho, replace=False)\n",
    "    except:\n",
    "        print(f\"tamanho={tamanho}, intervalo={intervalo}\")\n",
    "        print(S)\n",
    "        print(f\"indice={indice}, S[indice]={S[indice]}\")\n",
    "    x += int(S[indice]+1)\n",
    "    x_list = list(x)\n",
    "    x_list.sort()\n",
    "\n",
    "    #substitui os valores de S pelos valores de x_list\n",
    "    for i in range(len(x_list)):\n",
    "        S[indice+1+i]=x_list[i]\n",
    "\n",
    "    return S"
   ]
  },
  {
   "cell_type": "code",
   "execution_count": 5,
   "metadata": {},
   "outputs": [],
   "source": [
    "def tempera_simulada(M, P, L, alpha, T0, tree):\n",
    "    #M= maximo de iterações do laço externo\n",
    "    #P= maximo de iterações do laço interno\n",
    "    #L= limite do número de sucessos\n",
    "    #alpha= fator de redução da temperatura\n",
    "    #T0= temperatura inicial\n",
    "    #tree= raiz da árvore a ser buscada\n",
    "    T=T0\n",
    "    j=1\n",
    "    S=RandomS0()\n",
    "\n",
    "    while j<=M:\n",
    "        i=1\n",
    "        nSucesso=0\n",
    "        while nSucesso<L and i<=P:\n",
    "            Si=Perturba(S)\n",
    "            delta_Fi = func_obj(Si,tree) - func_obj(S,tree)\n",
    "            exp = np.exp(-delta_Fi/T)\n",
    "            if delta_Fi<=0 or exp>Randomiza():\n",
    "                S=Si\n",
    "                nSucesso += 1\n",
    "            i+=1\n",
    "        T*=alpha\n",
    "\n",
    "        j+=1\n",
    "        if nSucesso==0:\n",
    "            break\n",
    "    \n",
    "    #print(\"-\"*10)\n",
    "    #print(f\"M={M},P={P},L={L},alpha={alpha},T={T0}\")\n",
    "    #print(f\"i={i},j={j},T={round(T,4)},cost={func_obj(S,tree)}\\n{S}\")\n",
    "    return func_obj(S,tree), S"
   ]
  },
  {
   "cell_type": "code",
   "execution_count": 30,
   "metadata": {},
   "outputs": [
    {
     "output_type": "stream",
     "name": "stdout",
     "text": [
      "i=9,j=101,T=0.0027,cost=80\n[17, 22, 23, 29, 39, 43, 54, 55]\n"
     ]
    }
   ],
   "source": [
    "tempera_simulada(100, 200, 8, 0.9, 100, raiz)"
   ]
  },
  {
   "cell_type": "code",
   "execution_count": 6,
   "metadata": {},
   "outputs": [],
   "source": [
    "#M,P,L,alpha,T\n",
    "M=[50,100,200,500,750,1000]\n",
    "P=[5,10,20,40,80,160,300]\n",
    "L=[1,2,4,8,16,32]\n",
    "alpha=[0.999,0.99,0.98,0.95,0.9,0.8,0.67]\n",
    "T=[1,5,10,20,40,70,100,150,200]\n",
    "\n",
    "#15876 possibilidades"
   ]
  },
  {
   "cell_type": "code",
   "execution_count": 7,
   "metadata": {},
   "outputs": [
    {
     "output_type": "stream",
     "name": "stdout",
     "text": [
      "Iteração 500\n",
      "Iteração 1000\n",
      "40 50 40 2 0.8 100\n",
      "40 50 40 4 0.999 1\n",
      "Iteração 1500\n",
      "Iteração 2000\n",
      "40 50 160 4 0.999 5\n",
      "30 50 160 32 0.98 200\n",
      "Iteração 2500\n",
      "Iteração 3000\n",
      "40 100 20 1 0.8 200\n",
      "Iteração 3500\n",
      "40 100 20 4 0.9 20\n",
      "40 100 40 1 0.999 100\n",
      "Iteração 4000\n",
      "Iteração 4500\n",
      "40 100 160 8 0.99 1\n",
      "Iteração 5000\n",
      "Iteração 5500\n",
      "40 200 5 32 0.9 10\n",
      "Iteração 6000\n",
      "Iteração 6500\n",
      "Iteração 7000\n",
      "40 200 160 8 0.8 5\n",
      "Iteração 7500\n",
      "Iteração 8000\n",
      "Iteração 8500\n",
      "Iteração 9000\n",
      "30 500 20 32 0.99 100\n",
      "40 500 40 16 0.8 1\n",
      "Iteração 9500\n",
      "Iteração 10000\n",
      "<ipython-input-4-69cff42ed4f8>:29: DeprecationWarning: elementwise comparison failed; this will raise an error in the future.\n",
      "  if x in children_data:\n"
     ]
    }
   ],
   "source": [
    "import itertools\n",
    "i=0\n",
    "for m,p,l,a,t in list(itertools.product(M[],P,L,alpha,T)):\n",
    "    i+=1\n",
    "    custo=tempera_simulada(m,p,l,a,t,raiz)\n",
    "    if custo<50:\n",
    "        print(custo,m,p,l,a,t)\n",
    "    if i%500==0:\n",
    "        print(f\"Iteração {i}\")"
   ]
  },
  {
   "cell_type": "code",
   "execution_count": 9,
   "metadata": {},
   "outputs": [
    {
     "output_type": "stream",
     "name": "stdout",
     "text": [
      "70 [20, 31, 34, 35, 36, 38, 52, 55] 139.06337\n"
     ]
    }
   ],
   "source": [
    "T=time.time()\n",
    "for i in range(100):\n",
    "    #cria-se listas vazias para armazenar o custo e estado obtido após cada execução do algoritmo\n",
    "    custos=[]\n",
    "    estados=[]\n",
    "\n",
    "    #o algoritmo é chamado com os parâmetros que apresentaram melhor resultado na busca por parâmetros (descrita no relatório)\n",
    "    custo, S = tempera_simulada(50,160,32,0.98,200, raiz)\n",
    "\n",
    "    #armazena-se o custo e estado da presente execução do algoritmo nas listas\n",
    "    custos.append(custo)\n",
    "    estados.append(S)\n",
    "\n",
    "T2=time.time()\n",
    "print(min(custos),estados[custos.index(min(custos))], round(T2-T,5))"
   ]
  },
  {
   "cell_type": "code",
   "execution_count": null,
   "metadata": {},
   "outputs": [],
   "source": []
  },
  {
   "cell_type": "code",
   "execution_count": 17,
   "metadata": {},
   "outputs": [
    {
     "output_type": "stream",
     "name": "stdout",
     "text": [
      "20\n",
      "20\n",
      "40.63349199295044\n",
      "9 172\n"
     ]
    }
   ],
   "source": [
    "x=[]\n",
    "count40=0\n",
    "count30=0\n",
    "t0=time.time()\n",
    "for i in range(100000):\n",
    "    cost=func_obj(RandomS0(),raiz)\n",
    "    x.append(cost)\n",
    "    if cost==40:\n",
    "        count40+=1\n",
    "    elif cost==30:\n",
    "        count30+=1\n",
    "    elif cost<30:\n",
    "        print(cost)\n",
    "t1=time.time()\n",
    "print(min(x))\n",
    "print(t1-t0)\n",
    "print(count30,count40)"
   ]
  },
  {
   "cell_type": "code",
   "execution_count": 22,
   "metadata": {},
   "outputs": [
    {
     "output_type": "stream",
     "name": "stdout",
     "text": [
      "[3, 14, 27, 38, 46, 47, 59, 61]\n[3, 14, 27, 38, 45, 49, 55, 58]\n[3, 14, 27, 38, 44, 48, 58, 60]\n[3, 14, 27, 37, 41, 44, 48, 61]\n[3, 13, 16, 17, 33, 35, 37, 49]\n[3, 13, 16, 17, 33, 34, 37, 53]\n[3, 13, 16, 17, 18, 29, 52, 63]\n[3, 13, 16, 17, 18, 28, 38, 48]\n[3, 13, 16, 17, 18, 28, 38, 49]\n[3, 13, 16, 17, 18, 52, 53, 62]\n[3, 12, 14, 20, 30, 36, 50, 56]\n"
     ]
    }
   ],
   "source": [
    "S0 = RandomS0()\n",
    "print(S0)\n",
    "for i in range(10):\n",
    "    S0=Perturba(S0)\n",
    "    print(S0)"
   ]
  },
  {
   "cell_type": "code",
   "execution_count": 1,
   "metadata": {},
   "outputs": [],
   "source": [
    "import numpy as np \n",
    "import time"
   ]
  },
  {
   "cell_type": "code",
   "execution_count": 6,
   "metadata": {},
   "outputs": [
    {
     "output_type": "stream",
     "name": "stdout",
     "text": [
      "[[0, 0], [1, 2], [2, 4], [3, 6], [4, 8], [5, 10], [6, 12], [7, 14], [8, 16], [9, 18]]\n"
     ]
    }
   ],
   "source": [
    "lista = []\n",
    "for i in range(10):\n",
    "    lista.append([i,i*2])\n",
    "print(lista)"
   ]
  },
  {
   "cell_type": "code",
   "execution_count": 3,
   "metadata": {},
   "outputs": [],
   "source": [
    "def verifica_validade(x,y):\n",
    "    #verifica se estao na mesma linha\n",
    "    if x//8==y//8:\n",
    "        return False\n",
    "    #verifica se estao na mesma coluna\n",
    "    elif x%8==y%8:\n",
    "        return False\n",
    "    #verifica se estao na mesma diagonal principal (\\)\n",
    "    elif abs(x-y)%9==0 and max(x,y)%8>min(x,y)%8:\n",
    "        return False\n",
    "    #verifica se estao na mesma diagonal secundaria (/)\n",
    "    elif abs(x-y)%7==0 and max(x,y)%8<min(x,y)%8:\n",
    "        return False\n",
    "    #se todas as verificacoes passaram a posicao e valida\n",
    "    else:\n",
    "        return True\n",
    "\n"
   ]
  },
  {
   "cell_type": "code",
   "execution_count": 4,
   "metadata": {},
   "outputs": [
    {
     "output_type": "stream",
     "name": "stdout",
     "text": [
      "False\nFalse\nFalse\nFalse\nFalse\nFalse\nTrue\nTrue\nTrue\nTrue\nTrue\nTrue\n"
     ]
    }
   ],
   "source": [
    "lista=[[0, 6], [0, 32], [0, 36], [27, 20], [13, 4], [29, 50], [57, 30], [23, 41], [41, 55], [14, 16], [2, 59], [0, 61]]\n",
    "for listinha in lista:\n",
    "    print(verifica_validade(listinha[0], listinha[1]))"
   ]
  },
  {
   "cell_type": "code",
   "execution_count": 9,
   "metadata": {},
   "outputs": [
    {
     "output_type": "stream",
     "name": "stdout",
     "text": [
      "aspas funcionou\n"
     ]
    }
   ],
   "source": [
    "s=\"pikachu\"\n",
    "if type(s)==str:\n",
    "    print(\"aspas funcionou\")"
   ]
  },
  {
   "cell_type": "code",
   "execution_count": 8,
   "metadata": {},
   "outputs": [
    {
     "output_type": "stream",
     "name": "stdout",
     "text": [
      "<class 'str'>\n"
     ]
    }
   ],
   "source": [
    "print(type(s))"
   ]
  },
  {
   "cell_type": "code",
   "execution_count": 10,
   "metadata": {},
   "outputs": [
    {
     "output_type": "stream",
     "name": "stdout",
     "text": [
      "0\n2\n4\n6\n8\n10\n12\n14\n16\n18\n"
     ]
    }
   ],
   "source": [
    "for element in lista:\n",
    "    print(element[1])"
   ]
  },
  {
   "cell_type": "code",
   "execution_count": 5,
   "metadata": {},
   "outputs": [
    {
     "output_type": "stream",
     "name": "stdout",
     "text": [
      "1\n3\n4\n5\n6\n7\n8\n9\n10\n"
     ]
    }
   ],
   "source": [
    "for child in lista:\n",
    "    print(child)"
   ]
  },
  {
   "cell_type": "code",
   "execution_count": 2,
   "metadata": {},
   "outputs": [
    {
     "output_type": "stream",
     "name": "stdout",
     "text": [
      "helloword\n"
     ]
    }
   ],
   "source": [
    "print(\"helloword\")"
   ]
  },
  {
   "cell_type": "code",
   "execution_count": 11,
   "metadata": {},
   "outputs": [
    {
     "output_type": "stream",
     "name": "stdout",
     "text": [
      "[1, 3, 4, 5, 6, 7, 8, 9, 10, 11]\n"
     ]
    }
   ],
   "source": [
    "x = [1, 3, 4, 5, 6, 7, 8, 9, 10]\n",
    "x.append(11)"
   ]
  },
  {
   "cell_type": "code",
   "execution_count": 22,
   "metadata": {},
   "outputs": [
    {
     "output_type": "stream",
     "name": "stdout",
     "text": [
      "Oi Leo bjs1 3 4\n"
     ]
    }
   ],
   "source": [
    "print(f\"Oi Leo bjs{x[0]} {x[1]} {x[2]}\")"
   ]
  },
  {
   "cell_type": "code",
   "execution_count": 31,
   "metadata": {},
   "outputs": [],
   "source": [
    "s=input()"
   ]
  },
  {
   "cell_type": "code",
   "execution_count": 35,
   "metadata": {},
   "outputs": [
    {
     "output_type": "stream",
     "name": "stdout",
     "text": [
      "12 13 14 15\n"
     ]
    }
   ],
   "source": [
    "print(s)"
   ]
  },
  {
   "cell_type": "code",
   "execution_count": 37,
   "metadata": {},
   "outputs": [
    {
     "output_type": "stream",
     "name": "stdout",
     "text": [
      "['12', '13', '14', '15']\n<class 'list'>\n"
     ]
    }
   ],
   "source": [
    "v = s.split(\" \")\n",
    "print(v)\n",
    "print(type(v))"
   ]
  },
  {
   "cell_type": "code",
   "execution_count": 41,
   "metadata": {},
   "outputs": [
    {
     "output_type": "stream",
     "name": "stdout",
     "text": [
      "Dentro do for\n12\n13\n14\n15\n----------\n15\n[12, 13, 14, 15]\n<class 'list'>\n12\n<class 'int'>\n"
     ]
    }
   ],
   "source": [
    "u=[]\n",
    "print(\"Dentro do for\")\n",
    "for element in v:\n",
    "    print(element)\n",
    "    u.append(int(element))\n",
    "print(\"-\"*10)\n",
    "print(element)\n",
    "print(u)\n",
    "print(type(u))\n",
    "print(u[0])\n",
    "print(type(u[0]))"
   ]
  },
  {
   "cell_type": "code",
   "execution_count": 30,
   "metadata": {},
   "outputs": [
    {
     "output_type": "stream",
     "name": "stdout",
     "text": [
      "<class 'float'>\n12.0\n"
     ]
    }
   ],
   "source": [
    "s_int = float(s)\n",
    "print(type(s_int))\n",
    "print(s_int)"
   ]
  },
  {
   "cell_type": "code",
   "execution_count": 45,
   "metadata": {},
   "outputs": [
    {
     "output_type": "stream",
     "name": "stdout",
     "text": [
      "range(50, 100)\n<class 'range'>\n"
     ]
    }
   ],
   "source": [
    "print(range(50,100))\n",
    "print(type(range(50,100)))"
   ]
  },
  {
   "cell_type": "code",
   "execution_count": 48,
   "metadata": {},
   "outputs": [
    {
     "output_type": "stream",
     "name": "stdout",
     "text": [
      "0\n100\n2\n30\n4\n500\n6\n700\n8\n90\n"
     ]
    }
   ],
   "source": [
    "for i in range(10):\n",
    "    if i%2==0:\n",
    "        print(i)\n",
    "    elif i%3==0:\n",
    "        print(i*10)\n",
    "    else:\n",
    "        print(i*100)"
   ]
  },
  {
   "cell_type": "code",
   "execution_count": 59,
   "metadata": {},
   "outputs": [],
   "source": [
    "def soma(a,b):\n",
    "    return a+b"
   ]
  },
  {
   "cell_type": "code",
   "execution_count": 60,
   "metadata": {},
   "outputs": [],
   "source": [
    "def mul(a,b):\n",
    "    return a*b"
   ]
  },
  {
   "cell_type": "code",
   "execution_count": 61,
   "metadata": {},
   "outputs": [],
   "source": [
    "def div(a,b):\n",
    "    return a/b"
   ]
  },
  {
   "cell_type": "code",
   "execution_count": 68,
   "metadata": {},
   "outputs": [],
   "source": [
    "dict = {\n",
    "    \"A\": mul,\n",
    "    \"B\": soma,\n",
    "    \"C\": div\n",
    "    }"
   ]
  },
  {
   "cell_type": "code",
   "execution_count": 71,
   "metadata": {},
   "outputs": [
    {
     "output_type": "stream",
     "name": "stdout",
     "text": [
      "1.0\n"
     ]
    }
   ],
   "source": [
    "print(dict[\"C\"](2,2))"
   ]
  },
  {
   "cell_type": "code",
   "execution_count": 72,
   "metadata": {},
   "outputs": [],
   "source": [
    "P=print"
   ]
  },
  {
   "cell_type": "code",
   "execution_count": 73,
   "metadata": {},
   "outputs": [
    {
     "output_type": "stream",
     "name": "stdout",
     "text": [
      "Hello World!\n"
     ]
    }
   ],
   "source": [
    "P(\"Hello World!\")"
   ]
  },
  {
   "cell_type": "code",
   "execution_count": 78,
   "metadata": {},
   "outputs": [],
   "source": [
    "x,y,z=0,1,2"
   ]
  },
  {
   "cell_type": "code",
   "execution_count": 79,
   "metadata": {},
   "outputs": [],
   "source": [
    "x,y=y,x"
   ]
  },
  {
   "cell_type": "code",
   "execution_count": 80,
   "metadata": {},
   "outputs": [
    {
     "output_type": "stream",
     "name": "stdout",
     "text": [
      "1\n0\n2\n"
     ]
    }
   ],
   "source": [
    "print(x)\n",
    "print(y)\n",
    "print(z)"
   ]
  },
  {
   "cell_type": "code",
   "execution_count": 82,
   "metadata": {},
   "outputs": [
    {
     "output_type": "stream",
     "name": "stdout",
     "text": [
      "0\n1\n2\n3\n4\n5\n6\n7\n8\n9\n"
     ]
    }
   ],
   "source": [
    "x=0\n",
    "while(x<10):\n",
    "    print(x)\n",
    "    x+=1"
   ]
  },
  {
   "cell_type": "code",
   "execution_count": 94,
   "metadata": {},
   "outputs": [],
   "source": [
    "a = True\n",
    "b = False\n",
    "c = 124134314123\n",
    "d = 0"
   ]
  },
  {
   "cell_type": "code",
   "execution_count": 98,
   "metadata": {},
   "outputs": [
    {
     "output_type": "stream",
     "name": "stdout",
     "text": [
      "A\n"
     ]
    }
   ],
   "source": [
    "if (not c or a) and (not d):\n",
    "    print(\"A\")"
   ]
  },
  {
   "cell_type": "code",
   "execution_count": 90,
   "metadata": {},
   "outputs": [
    {
     "output_type": "stream",
     "name": "stdout",
     "text": [
      "<class 'int'>\n"
     ]
    }
   ],
   "source": [
    "print(type(c))"
   ]
  },
  {
   "cell_type": "code",
   "execution_count": 99,
   "metadata": {},
   "outputs": [
    {
     "output_type": "execute_result",
     "data": {
      "text/plain": [
       "2.0"
      ]
     },
     "metadata": {},
     "execution_count": 99
    }
   ],
   "source": [
    "np.log2(4)"
   ]
  },
  {
   "cell_type": "code",
   "execution_count": 133,
   "metadata": {},
   "outputs": [],
   "source": [
    "A = np.array([[0,1,2,3],\n",
    "              [3,4,5,6],\n",
    "              [8,9,0,1]])"
   ]
  },
  {
   "cell_type": "code",
   "execution_count": 135,
   "metadata": {},
   "outputs": [
    {
     "output_type": "stream",
     "name": "stdout",
     "text": [
      "[[0 1 2 3]\n [3 4 5 6]\n [8 9 0 1]]\n"
     ]
    }
   ],
   "source": [
    "print(A)"
   ]
  },
  {
   "cell_type": "code",
   "execution_count": 136,
   "metadata": {},
   "outputs": [
    {
     "output_type": "stream",
     "name": "stdout",
     "text": [
      "(3, 4)\n"
     ]
    }
   ],
   "source": [
    "print(np.shape(A))"
   ]
  },
  {
   "cell_type": "code",
   "execution_count": 132,
   "metadata": {},
   "outputs": [
    {
     "output_type": "execute_result",
     "data": {
      "text/plain": [
       "array([[1., 1., 1.],\n",
       "       [1., 1., 1.]])"
      ]
     },
     "metadata": {},
     "execution_count": 132
    }
   ],
   "source": [
    "np.ones((2,3))"
   ]
  },
  {
   "cell_type": "code",
   "execution_count": 130,
   "metadata": {},
   "outputs": [
    {
     "output_type": "stream",
     "name": "stdout",
     "text": [
      "[[0 1 2 3]]\n"
     ]
    }
   ],
   "source": [
    "print(A)"
   ]
  },
  {
   "cell_type": "code",
   "execution_count": 109,
   "metadata": {},
   "outputs": [],
   "source": [
    "x = \"abcdefghi\""
   ]
  },
  {
   "cell_type": "code",
   "execution_count": 126,
   "metadata": {},
   "outputs": [],
   "source": [
    "a = x.index(\"d\")\n",
    "x = x[:a]+\"BLA\"+x[a:]"
   ]
  },
  {
   "cell_type": "code",
   "execution_count": 127,
   "metadata": {},
   "outputs": [
    {
     "output_type": "stream",
     "name": "stdout",
     "text": [
      "jklabcBLAdBLAefghijkljkl\n"
     ]
    }
   ],
   "source": [
    "print(x)"
   ]
  },
  {
   "cell_type": "code",
   "execution_count": null,
   "metadata": {},
   "outputs": [],
   "source": []
  }
 ]
}